{
 "cells": [
  {
   "cell_type": "markdown",
   "metadata": {},
   "source": [
    "Run benchmarks, save results to `data.json`."
   ]
  },
  {
   "cell_type": "code",
   "execution_count": null,
   "metadata": {},
   "outputs": [],
   "source": [
    "%%bash\n",
    "cd symengine/benchmarks\n",
    "python run_bench.py\n",
    "cp data.json ../.."
   ]
  },
  {
   "cell_type": "markdown",
   "metadata": {},
   "source": [
    "Plot results into graphs."
   ]
  },
  {
   "cell_type": "code",
   "execution_count": null,
   "metadata": {},
   "outputs": [],
   "source": [
    "%matplotlib inline\n",
    "import matplotlib.pyplot as plt\n",
    "import json\n",
    "import numpy as np\n",
    "import os\n",
    "from matplotlib.ticker import FormatStrFormatter\n",
    "with open('data.json', 'r') as f:\n",
    "    tests = json.loads(f.read())\n",
    "os.makedirs(\"images\", exist_ok=True)\n",
    "for test in tests:\n",
    "    name = test[0]\n",
    "    param = test[1][:]\n",
    "    for i in range(2, len(test)):\n",
    "        test[i] = np.array(test[i])/1000 # convert from ms to s\n",
    "    if (len(test) > 4):\n",
    "        plt.loglog(param, test[2], 'go-', label=\"SymEngine\")\n",
    "        plt.loglog(param, test[3], 'bo-', label=\"GiNaC\")\n",
    "        plt.loglog(param, test[4], 'ro-', label=\"Mathematica\")\n",
    "        plt.loglog(param, test[5], 'yo-', label=\"SymPy\")\n",
    "        plt.loglog(param, test[6], 'co-', label=\"Maple\")\n",
    "    elif (len(test) > 3):\n",
    "        plt.loglog(param, test[2], 'go-', label=\"SymEngine\")\n",
    "        plt.loglog(param, test[3], 'yo-', label=\"SymPy\")\n",
    "    else:\n",
    "        plt.loglog(param, test[2], 'go-', label=\"SymEngine\")        \n",
    "    if (len(test) > 7):\n",
    "        plt.loglog(param, test[-1], 'mo-', label=\"Piranha\")\n",
    "    \n",
    "    plt.xlim([0.9*param[0], 1.1*param[-1]])\n",
    "    plt.xlabel('N')\n",
    "    plt.ylabel('Time [s]')\n",
    "    plt.title(\"Benchmark \"+name)\n",
    "    lgd = plt.legend(loc='center right', bbox_to_anchor=(1.4, 0.5))\n",
    "    plt.gca().xaxis.grid(which=\"both\")\n",
    "    plt.gca().yaxis.grid()\n",
    "    plt.tick_params(axis='x', which='minor')\n",
    "    plt.gca().xaxis.set_minor_formatter(FormatStrFormatter(\"%.0f\"))\n",
    "    plt.savefig('images/%s.pdf' % name, bbox_extra_artists=(lgd,), bbox_inches='tight')\n",
    "    plt.show()"
   ]
  }
 ],
 "metadata": {
  "kernelspec": {
   "display_name": "Python 3",
   "language": "python",
   "name": "python3"
  },
  "language_info": {
   "codemirror_mode": {
    "name": "ipython",
    "version": 3
   },
   "file_extension": ".py",
   "mimetype": "text/x-python",
   "name": "python",
   "nbconvert_exporter": "python",
   "pygments_lexer": "ipython3",
   "version": "3.6.2"
  }
 },
 "nbformat": 4,
 "nbformat_minor": 2
}
