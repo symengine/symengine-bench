{
 "cells": [
  {
   "cell_type": "code",
   "execution_count": null,
   "metadata": {},
   "outputs": [],
   "source": [
    "COMMIT1=\"398a3f39\"\n",
    "COMMIT2=\"fdf132fc\""
   ]
  },
  {
   "cell_type": "code",
   "execution_count": null,
   "metadata": {},
   "outputs": [],
   "source": [
    "%matplotlib inline\n",
    "import matplotlib.pyplot as plt\n",
    "import json\n",
    "import numpy as np\n",
    "import os\n",
    "from matplotlib.ticker import FormatStrFormatter\n",
    "with open('data-%s.json' % COMMIT1, 'r') as f:\n",
    "    tests = json.loads(f.read())\n",
    "with open('data-%s.json' % COMMIT2, 'r') as f:\n",
    "    tests2 = json.loads(f.read())\n",
    "for test, test2 in zip(tests, tests2):\n",
    "    name = test[0]\n",
    "    param = test[1][:]\n",
    "    param2 = test2[1][:]\n",
    "    for i in range(2, len(test)):\n",
    "        test[i] = np.array(test[i])/1000 # convert from ms to s\n",
    "    for i in range(2, len(test2)):\n",
    "        test2[i] = np.array(test2[i])/1000 # convert from ms to s\n",
    "        \n",
    "    plt.loglog(param, test[2], 'go-', label=\"SymEngine %s\" % COMMIT1)\n",
    "    plt.loglog(param2, test2[2], 'bo-', label=\"SymEngine %s\" % COMMIT2)        \n",
    "\n",
    "    \n",
    "    plt.xlim([0.9*param[0], 1.1*param[-1]])\n",
    "    plt.xlabel('N')\n",
    "    plt.ylabel('Time [s]')\n",
    "    plt.title(\"Benchmark \"+name)\n",
    "    lgd = plt.legend(loc='center right', bbox_to_anchor=(1.4, 0.5))\n",
    "    plt.gca().xaxis.grid(which=\"both\")\n",
    "    plt.gca().yaxis.grid()\n",
    "    plt.tick_params(axis='x', which='minor')\n",
    "    plt.gca().xaxis.set_minor_formatter(FormatStrFormatter(\"%.0f\"))\n",
    "    #plt.savefig('images/%s.pdf' % name, bbox_extra_artists=(lgd,), bbox_inches='tight')\n",
    "    plt.show()"
   ]
  }
 ],
 "metadata": {
  "kernelspec": {
   "display_name": "Python 3",
   "language": "python",
   "name": "python3"
  },
  "language_info": {
   "codemirror_mode": {
    "name": "ipython",
    "version": 3
   },
   "file_extension": ".py",
   "mimetype": "text/x-python",
   "name": "python",
   "nbconvert_exporter": "python",
   "pygments_lexer": "ipython3",
   "version": "3.6.1"
  }
 },
 "nbformat": 4,
 "nbformat_minor": 2
}
